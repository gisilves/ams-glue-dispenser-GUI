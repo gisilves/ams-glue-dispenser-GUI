{
 "cells": [
  {
   "cell_type": "code",
   "execution_count": 8,
   "metadata": {},
   "outputs": [],
   "source": [
    "import numpy as np\n",
    "import matplotlib.pyplot as plt\n",
    "%matplotlib qt\n",
    "\n",
    "def initialize(zero_glue:tuple=(0,0), feed_rate:int=500, fast:bool=False) -> str:\n",
    "    s='; Program initialization\\n'\n",
    "    s+=f'F{feed_rate}\\n'\n",
    "    s+='G00' if fast else 'G01'\n",
    "    s+=f'X{zero_glue[0]:.3f}Y{zero_glue[1]:.3f}\\n'\n",
    "    s+='G91\\n' # Relative coordinates\n",
    "    s+='G00' if fast else 'G01'\n",
    "    s+='; End of program initialization\\n'\n",
    "    return s\n",
    "\n",
    "def moveTo(xy:tuple=(0,0), fast:bool=False, comment = '') -> str:\n",
    "    x=xy[0]\n",
    "    y=xy[1]\n",
    "    s = 'G00' if fast else 'G01'\n",
    "    if not x == 0:\n",
    "        s+=f'X{x:.3f}'\n",
    "    if not y == 0:\n",
    "        s+=f'Y{y:.3f}'\n",
    "    s+=comment\n",
    "    s+='\\n'\n",
    "    return s\n",
    "\n",
    "def glueDeposition(pause_long:float=1, pause_short:float=1, pause_glue:float=1) -> str:\n",
    "    s = '; ------- Glue deposition -------\\n'\n",
    "    s+='M4\\n' # Estensione asse Z\n",
    "    s+=f'G4 P{pause_long:03d}\\n' # Pausa per attesa estensione asse Z\n",
    "    s+='M8\\n' # Attivo il glue dispenser\n",
    "    s+=f'G4 P{pause_short:03d}\\n' # Pausa di un decimo del tempo di attesa standard\n",
    "    s+='M9\\n' # Disattivo il glue dispenser, in auto mode serve solo un impulso e lo simulo con la pausa sopra\n",
    "    s+=f'G4 P{pause_glue:03d}\\n' # Pausa per deposizione colla\n",
    "    s+='M3\\n' # Ritiro l'asse Z\n",
    "    s+=f'G4 P{pause_long:03d}\\n' # Pausa per attesa ritrazione asse Z\n",
    "    s+='; ------- End of glue deposition -------\\n'\n",
    "    return s"
   ]
  },
  {
   "cell_type": "code",
   "execution_count": 9,
   "metadata": {},
   "outputs": [
    {
     "name": "stdout",
     "output_type": "stream",
     "text": [
      "204\n"
     ]
    }
   ],
   "source": [
    "glueDots = []\n",
    "posX = True\n",
    "posY = True\n",
    "stepX = 20\n",
    "stepY = 26.2\n",
    "filename = 12 #Ladder lenght in number of silicons\n",
    "glueDots_X = 51-((12-filename)*4)\n",
    "for i in range(4):\n",
    "    for j in range(glueDots_X):\n",
    "        if i%2 == 0: # I numeri pari hanno step positivi, i dispari negativi\n",
    "            glueDots.append((j*stepX, i*stepY))\n",
    "        else:\n",
    "            glueDots.append(((glueDots_X-j-1)*stepX, i*stepY))\n",
    "glueCoord = np.array(glueDots)\n",
    "#print(glueCoord)\n",
    "oldXY = glueCoord[0]\n",
    "print(len(glueDots))\n",
    "with open(f'./{filename}Si.gcode', 'w') as gcode:\n",
    "    gcode.write(initialize())\n",
    "    for i in range(len(glueCoord)):\n",
    "        xy = glueCoord[i]\n",
    "        delta = (xy[0]-oldXY[0], xy[1]-oldXY[1])\n",
    "        if not (delta[0] == 0 and delta[1] == 0):\n",
    "            gcode.write(moveTo(xy=delta, comment=f' ; Glue dot in position ({i%51 if (i//51)%2 == 0 else (50-i%51)}, {(i//51)%4})'))\n",
    "        else:\n",
    "            gcode.write(f'; First glue dot in position ({i%51}, {(i//51)%4})\\n')\n",
    "        gcode.write(glueDeposition())\n",
    "        oldXY = xy\n",
    "\n",
    "\n"
   ]
  },
  {
   "cell_type": "code",
   "execution_count": 11,
   "metadata": {},
   "outputs": [],
   "source": [
    "# Print an image of the glue dots\n",
    "fig, ax = plt.subplots()\n",
    "ax.set_aspect('equal')\n",
    "ax.scatter(glueCoord[:,0], glueCoord[:,1])\n",
    "# Add a grid\n",
    "ax.grid(True)\n",
    "plt.show()\n"
   ]
  }
 ],
 "metadata": {
  "kernelspec": {
   "display_name": "Python 3",
   "language": "python",
   "name": "python3"
  },
  "language_info": {
   "codemirror_mode": {
    "name": "ipython",
    "version": 3
   },
   "file_extension": ".py",
   "mimetype": "text/x-python",
   "name": "python",
   "nbconvert_exporter": "python",
   "pygments_lexer": "ipython3",
   "version": "3.13.2"
  }
 },
 "nbformat": 4,
 "nbformat_minor": 2
}
